{
 "cells": [
  {
   "cell_type": "code",
   "execution_count": 16,
   "metadata": {},
   "outputs": [],
   "source": [
    "import openpyxl\n",
    "import qrcode"
   ]
  },
  {
   "cell_type": "code",
   "execution_count": 17,
   "metadata": {},
   "outputs": [],
   "source": [
    "facultyName = \"architecture\"\n",
    "facultyText = f\"B. {str.capitalize(facultyName)}\"\n",
    "qrFacultyText = f\"{facultyText} 2079\""
   ]
  },
  {
   "cell_type": "code",
   "execution_count": 18,
   "metadata": {},
   "outputs": [
    {
     "name": "stdout",
     "output_type": "stream",
     "text": [
      "['abhi baral', 'akriti thapa', 'alok bastola', 'arun chaudhary', 'dipak kumar shah', 'itchhing thoklen', 'januka tamang', 'jharna malla', 'kritika karki', 'kshitiz rai', 'laxmi chaudhary', 'manisha shrestha', 'meha tamang', 'mousam chamlagain', 'onim gurung', 'prabin poudel', 'pratigya bhandari', 'pratiksha shrestha', 'prem bahadur rawat', 'rohan timsina', 'samyak shakya', 'sedina lawati', 'suman khadka', 'yagendra prasad dhamala', 'yunika nepal'] ['079/BARC/1', '079/BARC/2', '079/BARC/3', '079/BARC/4', '079/BARC/5', '079/BARC/6', '079/BARC/7', '079/BARC/8', '079/BARC/9', '079/BARC/10', '079/BARC/11', '079/BARC/12', '079/BARC/13', '079/BARC/14', '079/BARC/15', '079/BARC/16', '079/BARC/17', '079/BARC/18', '079/BARC/19', '079/BARC/20', '079/BARC/21', '079/BARC/22', '079/BARC/23', '079/BARC/24', '079/BARC/25']\n"
     ]
    }
   ],
   "source": [
    "wb = openpyxl.load_workbook('.confidential/student-detail.xlsx')\n",
    "sheet = wb[facultyName]\n",
    "maxr = sheet.max_row\n",
    "students = {\n",
    "    \"names\": [],\n",
    "    \"rolls\": []\n",
    "}\n",
    "for i in range(1, maxr+1):  #row and column indexing starts from 1!!! <furious>\n",
    "    sname = sheet.cell(i, 1)\n",
    "    sroll = sheet.cell(i, 2)\n",
    "    if sname.value != None and sroll.value != None:\n",
    "        students[\"names\"].append(str.lower(sname.value))\n",
    "        students[\"rolls\"].append(sroll.value)\n",
    "print(students[\"names\"], students[\"rolls\"])"
   ]
  },
  {
   "cell_type": "code",
   "execution_count": 19,
   "metadata": {},
   "outputs": [],
   "source": [
    "#qr code generation\n",
    "def qrGen(name: str, roll: str):\n",
    "    text = f\"{name}\\n{roll}\\n{qrFacultyText}\"\n",
    "    qrImg = qrcode.make(text)\n",
    "    qrImg = qrImg.resize((200, 200))\n",
    "    return qrImg"
   ]
  },
  {
   "cell_type": "code",
   "execution_count": 20,
   "metadata": {},
   "outputs": [],
   "source": [
    "for i, name in enumerate(students[\"names\"]):\n",
    "    qrImg = qrGen(name, students[\"rolls\"][i])\n",
    "    qrImg.save(f'./arch-out/{name}.jpg')"
   ]
  }
 ],
 "metadata": {
  "kernelspec": {
   "display_name": ".env",
   "language": "python",
   "name": "python3"
  },
  "language_info": {
   "codemirror_mode": {
    "name": "ipython",
    "version": 3
   },
   "file_extension": ".py",
   "mimetype": "text/x-python",
   "name": "python",
   "nbconvert_exporter": "python",
   "pygments_lexer": "ipython3",
   "version": "3.11.0"
  },
  "orig_nbformat": 4
 },
 "nbformat": 4,
 "nbformat_minor": 2
}
